{
 "cells": [
  {
   "cell_type": "code",
   "execution_count": 1,
   "metadata": {},
   "outputs": [
    {
     "name": "stderr",
     "output_type": "stream",
     "text": [
      "/home/vajir/anaconda3/lib/python3.6/importlib/_bootstrap.py:219: RuntimeWarning: numpy.dtype size changed, may indicate binary incompatibility. Expected 96, got 88\n",
      "  return f(*args, **kwds)\n",
      "/home/vajir/anaconda3/lib/python3.6/site-packages/h5py/__init__.py:36: FutureWarning: Conversion of the second argument of issubdtype from `float` to `np.floating` is deprecated. In future, it will be treated as `np.float64 == np.dtype(float).type`.\n",
      "  from ._conv import register_converters as _register_converters\n",
      "/home/vajir/anaconda3/lib/python3.6/importlib/_bootstrap.py:219: RuntimeWarning: numpy.dtype size changed, may indicate binary incompatibility. Expected 96, got 88\n",
      "  return f(*args, **kwds)\n",
      "/home/vajir/anaconda3/lib/python3.6/importlib/_bootstrap.py:219: RuntimeWarning: numpy.dtype size changed, may indicate binary incompatibility. Expected 96, got 88\n",
      "  return f(*args, **kwds)\n",
      "Using TensorFlow backend.\n"
     ]
    }
   ],
   "source": [
    "# importing libraries\n",
    "import math\n",
    "import numpy as np\n",
    "import h5py\n",
    "import matplotlib.pyplot as plt\n",
    "import tensorflow as tf\n",
    "from tensorflow.python.framework import ops\n",
    "import pandas as pd\n",
    "from keras.utils.np_utils import to_categorical"
   ]
  },
  {
   "cell_type": "code",
   "execution_count": 16,
   "metadata": {},
   "outputs": [],
   "source": [
    "# importing data set\n",
    "train_data = pd.read_csv('train.csv')\n",
    "test_data = pd.read_csv('test.csv')"
   ]
  },
  {
   "cell_type": "code",
   "execution_count": 17,
   "metadata": {},
   "outputs": [
    {
     "name": "stdout",
     "output_type": "stream",
     "text": [
      "<class 'pandas.core.frame.DataFrame'>\n",
      "RangeIndex: 42000 entries, 0 to 41999\n",
      "Columns: 785 entries, label to pixel783\n",
      "dtypes: int64(785)\n",
      "memory usage: 251.5 MB\n"
     ]
    }
   ],
   "source": [
    "# train data info\n",
    "train_data.info()"
   ]
  },
  {
   "cell_type": "code",
   "execution_count": 63,
   "metadata": {},
   "outputs": [
    {
     "name": "stdout",
     "output_type": "stream",
     "text": [
      "X_train shape = (42000, 784)\n",
      "Y_train shape = (42000,)\n",
      "X_test shape = (28000, 784)\n"
     ]
    }
   ],
   "source": [
    "X_train = train_data.iloc[: ,1:].values/255.0\n",
    "Y_train = train_data.iloc[: ,0].values\n",
    "X_test = test_data.iloc[: ,:].values/255.0\n",
    "print('X_train shape =' ,X_train.shape)\n",
    "print('Y_train shape =' ,Y_train.shape)\n",
    "print('X_test shape =' ,X_test.shape)"
   ]
  },
  {
   "cell_type": "code",
   "execution_count": 64,
   "metadata": {},
   "outputs": [],
   "source": [
    "Y_train = to_categorical(Y_train ,num_classes =10)"
   ]
  },
  {
   "cell_type": "code",
   "execution_count": 65,
   "metadata": {},
   "outputs": [
    {
     "name": "stdout",
     "output_type": "stream",
     "text": [
      "(33600, 784)\n",
      "(8400, 784)\n",
      "(33600, 10)\n",
      "(8400, 10)\n"
     ]
    }
   ],
   "source": [
    "from sklearn.cross_validation import train_test_split\n",
    "X_train_std ,X_cv_std ,Y_train_std ,Y_cv_std = train_test_split(X_train ,Y_train ,test_size =0.2 ,random_state =0)\n",
    "print(X_train_std.shape)\n",
    "print(X_cv_std.shape)\n",
    "print(Y_train_std.shape)\n",
    "print(Y_cv_std.shape)"
   ]
  },
  {
   "cell_type": "code",
   "execution_count": null,
   "metadata": {},
   "outputs": [],
   "source": []
  },
  {
   "cell_type": "code",
   "execution_count": 66,
   "metadata": {},
   "outputs": [],
   "source": [
    "from keras import models\n",
    "from keras import layers\n",
    "from keras import optimizers\n",
    "network = models.Sequential()\n",
    "network.add(layers.Dense(512 ,activation= 'relu' ,input_shape =(784,)))\n",
    "network.add(layers.Dropout(0.4))\n",
    "network.add(layers.Dense(256 ,activation ='relu'))\n",
    "network.add(layers.Dropout(0.4))\n",
    "network.add(layers.Dense(64 ,activation ='relu'))\n",
    "network.add(layers.Dropout(0.4))\n",
    "network.add(layers.Dense(32 ,activation ='relu'))\n",
    "network.add(layers.Dense(10 ,activation ='softmax'))"
   ]
  },
  {
   "cell_type": "code",
   "execution_count": 67,
   "metadata": {},
   "outputs": [
    {
     "name": "stdout",
     "output_type": "stream",
     "text": [
      "_________________________________________________________________\n",
      "Layer (type)                 Output Shape              Param #   \n",
      "=================================================================\n",
      "dense_44 (Dense)             (None, 512)               401920    \n",
      "_________________________________________________________________\n",
      "dropout_31 (Dropout)         (None, 512)               0         \n",
      "_________________________________________________________________\n",
      "dense_45 (Dense)             (None, 256)               131328    \n",
      "_________________________________________________________________\n",
      "dropout_32 (Dropout)         (None, 256)               0         \n",
      "_________________________________________________________________\n",
      "dense_46 (Dense)             (None, 64)                16448     \n",
      "_________________________________________________________________\n",
      "dropout_33 (Dropout)         (None, 64)                0         \n",
      "_________________________________________________________________\n",
      "dense_47 (Dense)             (None, 32)                2080      \n",
      "_________________________________________________________________\n",
      "dense_48 (Dense)             (None, 10)                330       \n",
      "=================================================================\n",
      "Total params: 552,106\n",
      "Trainable params: 552,106\n",
      "Non-trainable params: 0\n",
      "_________________________________________________________________\n"
     ]
    }
   ],
   "source": [
    "network.summary()"
   ]
  },
  {
   "cell_type": "code",
   "execution_count": 68,
   "metadata": {},
   "outputs": [],
   "source": [
    "network.compile(optimizer =optimizers.RMSprop(lr =2e-5) ,loss ='categorical_crossentropy' ,metrics =['acc'])"
   ]
  },
  {
   "cell_type": "code",
   "execution_count": 69,
   "metadata": {},
   "outputs": [
    {
     "name": "stdout",
     "output_type": "stream",
     "text": [
      "Train on 33600 samples, validate on 8400 samples\n",
      "Epoch 1/100\n",
      "33600/33600 [==============================] - 36s 1ms/step - loss: 2.2148 - acc: 0.1858 - val_loss: 1.8997 - val_acc: 0.5646\n",
      "Epoch 2/100\n",
      "33600/33600 [==============================] - 34s 1ms/step - loss: 1.8622 - acc: 0.3753 - val_loss: 1.3781 - val_acc: 0.6733\n",
      "Epoch 3/100\n",
      "33600/33600 [==============================] - 34s 1ms/step - loss: 1.4979 - acc: 0.5117 - val_loss: 0.9952 - val_acc: 0.7606\n",
      "Epoch 4/100\n",
      "33600/33600 [==============================] - 34s 1ms/step - loss: 1.2376 - acc: 0.6030 - val_loss: 0.7704 - val_acc: 0.8139\n",
      "Epoch 5/100\n",
      "33600/33600 [==============================] - 34s 997us/step - loss: 1.0532 - acc: 0.6656 - val_loss: 0.6331 - val_acc: 0.8490\n",
      "Epoch 6/100\n",
      "33600/33600 [==============================] - 33s 986us/step - loss: 0.9223 - acc: 0.7103 - val_loss: 0.5441 - val_acc: 0.8673\n",
      "Epoch 7/100\n",
      "33600/33600 [==============================] - 33s 978us/step - loss: 0.8197 - acc: 0.7462 - val_loss: 0.4795 - val_acc: 0.8810\n",
      "Epoch 8/100\n",
      "33600/33600 [==============================] - 34s 1000us/step - loss: 0.7445 - acc: 0.7735 - val_loss: 0.4340 - val_acc: 0.8907\n",
      "Epoch 9/100\n",
      "33600/33600 [==============================] - 34s 1ms/step - loss: 0.6804 - acc: 0.7954 - val_loss: 0.3955 - val_acc: 0.8990\n",
      "Epoch 10/100\n",
      "33600/33600 [==============================] - 34s 1ms/step - loss: 0.6241 - acc: 0.8119 - val_loss: 0.3704 - val_acc: 0.9046\n",
      "Epoch 11/100\n",
      "33600/33600 [==============================] - 33s 990us/step - loss: 0.5806 - acc: 0.8289 - val_loss: 0.3472 - val_acc: 0.9090\n",
      "Epoch 12/100\n",
      "33600/33600 [==============================] - 35s 1ms/step - loss: 0.5448 - acc: 0.8415 - val_loss: 0.3274 - val_acc: 0.9137\n",
      "Epoch 13/100\n",
      "33600/33600 [==============================] - 35s 1ms/step - loss: 0.5079 - acc: 0.8502 - val_loss: 0.3109 - val_acc: 0.9173\n",
      "Epoch 14/100\n",
      "33600/33600 [==============================] - 35s 1ms/step - loss: 0.4823 - acc: 0.8617 - val_loss: 0.2983 - val_acc: 0.9199\n",
      "Epoch 15/100\n",
      "33600/33600 [==============================] - 33s 968us/step - loss: 0.4615 - acc: 0.8668 - val_loss: 0.2872 - val_acc: 0.9219\n",
      "Epoch 16/100\n",
      "33600/33600 [==============================] - 34s 1ms/step - loss: 0.4430 - acc: 0.8748 - val_loss: 0.2767 - val_acc: 0.9251\n",
      "Epoch 17/100\n",
      "33600/33600 [==============================] - 34s 1ms/step - loss: 0.4170 - acc: 0.8804 - val_loss: 0.2685 - val_acc: 0.9268\n",
      "Epoch 18/100\n",
      "33600/33600 [==============================] - 34s 1ms/step - loss: 0.3967 - acc: 0.8873 - val_loss: 0.2606 - val_acc: 0.9295\n",
      "Epoch 19/100\n",
      "33600/33600 [==============================] - 35s 1ms/step - loss: 0.3917 - acc: 0.8893 - val_loss: 0.2546 - val_acc: 0.9305\n",
      "Epoch 20/100\n",
      "33600/33600 [==============================] - 35s 1ms/step - loss: 0.3689 - acc: 0.8966 - val_loss: 0.2457 - val_acc: 0.9326\n",
      "Epoch 21/100\n",
      "33600/33600 [==============================] - 35s 1ms/step - loss: 0.3599 - acc: 0.8990 - val_loss: 0.2405 - val_acc: 0.9344\n",
      "Epoch 22/100\n",
      "33600/33600 [==============================] - 35s 1ms/step - loss: 0.3502 - acc: 0.9030 - val_loss: 0.2364 - val_acc: 0.9360\n",
      "Epoch 23/100\n",
      "33600/33600 [==============================] - 35s 1ms/step - loss: 0.3363 - acc: 0.9046 - val_loss: 0.2290 - val_acc: 0.9382\n",
      "Epoch 24/100\n",
      "33600/33600 [==============================] - 34s 1ms/step - loss: 0.3285 - acc: 0.9107 - val_loss: 0.2249 - val_acc: 0.9389\n",
      "Epoch 25/100\n",
      "33600/33600 [==============================] - 34s 1ms/step - loss: 0.3161 - acc: 0.9120 - val_loss: 0.2212 - val_acc: 0.9405\n",
      "Epoch 26/100\n",
      "33600/33600 [==============================] - 34s 1ms/step - loss: 0.3118 - acc: 0.9136 - val_loss: 0.2143 - val_acc: 0.9418\n",
      "Epoch 27/100\n",
      "33600/33600 [==============================] - 35s 1ms/step - loss: 0.3032 - acc: 0.9165 - val_loss: 0.2121 - val_acc: 0.9421\n",
      "Epoch 28/100\n",
      "33600/33600 [==============================] - 34s 1ms/step - loss: 0.2962 - acc: 0.9191 - val_loss: 0.2090 - val_acc: 0.9430\n",
      "Epoch 29/100\n",
      "33600/33600 [==============================] - 34s 1ms/step - loss: 0.2849 - acc: 0.9218 - val_loss: 0.2034 - val_acc: 0.9446\n",
      "Epoch 30/100\n",
      "33600/33600 [==============================] - 33s 994us/step - loss: 0.2782 - acc: 0.9236 - val_loss: 0.2017 - val_acc: 0.9446\n",
      "Epoch 31/100\n",
      "33600/33600 [==============================] - 35s 1ms/step - loss: 0.2735 - acc: 0.9259 - val_loss: 0.1969 - val_acc: 0.9456\n",
      "Epoch 32/100\n",
      "33600/33600 [==============================] - 34s 1ms/step - loss: 0.2597 - acc: 0.9297 - val_loss: 0.1948 - val_acc: 0.9467\n",
      "Epoch 33/100\n",
      "33600/33600 [==============================] - 34s 1ms/step - loss: 0.2623 - acc: 0.9280 - val_loss: 0.1913 - val_acc: 0.9473\n",
      "Epoch 34/100\n",
      "33600/33600 [==============================] - 33s 988us/step - loss: 0.2540 - acc: 0.9310 - val_loss: 0.1885 - val_acc: 0.9482\n",
      "Epoch 35/100\n",
      "33600/33600 [==============================] - 35s 1ms/step - loss: 0.2486 - acc: 0.9313 - val_loss: 0.1874 - val_acc: 0.9489\n",
      "Epoch 36/100\n",
      "33600/33600 [==============================] - 33s 975us/step - loss: 0.2420 - acc: 0.9343 - val_loss: 0.1830 - val_acc: 0.9499\n",
      "Epoch 37/100\n",
      "33600/33600 [==============================] - 34s 998us/step - loss: 0.2392 - acc: 0.9343 - val_loss: 0.1811 - val_acc: 0.9508\n",
      "Epoch 38/100\n",
      "33600/33600 [==============================] - 34s 1ms/step - loss: 0.2330 - acc: 0.9352 - val_loss: 0.1780 - val_acc: 0.9506\n",
      "Epoch 39/100\n",
      "33600/33600 [==============================] - 35s 1ms/step - loss: 0.2296 - acc: 0.9378 - val_loss: 0.1764 - val_acc: 0.9507\n",
      "Epoch 40/100\n",
      "33600/33600 [==============================] - 33s 993us/step - loss: 0.2292 - acc: 0.9381 - val_loss: 0.1735 - val_acc: 0.9515\n",
      "Epoch 41/100\n",
      "33600/33600 [==============================] - 33s 976us/step - loss: 0.2208 - acc: 0.9407 - val_loss: 0.1725 - val_acc: 0.9529\n",
      "Epoch 42/100\n",
      "33600/33600 [==============================] - 34s 1ms/step - loss: 0.2176 - acc: 0.9414 - val_loss: 0.1710 - val_acc: 0.9546\n",
      "Epoch 43/100\n",
      "33600/33600 [==============================] - 34s 1ms/step - loss: 0.2126 - acc: 0.9422 - val_loss: 0.1667 - val_acc: 0.9551\n",
      "Epoch 44/100\n",
      "33600/33600 [==============================] - 33s 994us/step - loss: 0.2094 - acc: 0.9438 - val_loss: 0.1651 - val_acc: 0.9562\n",
      "Epoch 45/100\n",
      "33600/33600 [==============================] - 35s 1ms/step - loss: 0.2059 - acc: 0.9446 - val_loss: 0.1649 - val_acc: 0.9558\n",
      "Epoch 46/100\n",
      "33600/33600 [==============================] - 33s 995us/step - loss: 0.2024 - acc: 0.9458 - val_loss: 0.1621 - val_acc: 0.9562\n",
      "Epoch 47/100\n",
      "33600/33600 [==============================] - 34s 1ms/step - loss: 0.1964 - acc: 0.9474 - val_loss: 0.1602 - val_acc: 0.9564\n",
      "Epoch 48/100\n",
      "33600/33600 [==============================] - 37s 1ms/step - loss: 0.1954 - acc: 0.9472 - val_loss: 0.1596 - val_acc: 0.9571\n",
      "Epoch 49/100\n",
      "33600/33600 [==============================] - 33s 990us/step - loss: 0.1924 - acc: 0.9485 - val_loss: 0.1574 - val_acc: 0.9576\n",
      "Epoch 50/100\n",
      "33600/33600 [==============================] - 36s 1ms/step - loss: 0.1868 - acc: 0.9487 - val_loss: 0.1573 - val_acc: 0.9576\n",
      "Epoch 51/100\n",
      "33600/33600 [==============================] - 35s 1ms/step - loss: 0.1861 - acc: 0.9502 - val_loss: 0.1563 - val_acc: 0.9579\n",
      "Epoch 52/100\n",
      "33600/33600 [==============================] - 36s 1ms/step - loss: 0.1804 - acc: 0.9499 - val_loss: 0.1534 - val_acc: 0.9589\n",
      "Epoch 53/100\n",
      "33600/33600 [==============================] - 36s 1ms/step - loss: 0.1821 - acc: 0.9504 - val_loss: 0.1522 - val_acc: 0.9588\n",
      "Epoch 54/100\n",
      "33600/33600 [==============================] - 35s 1ms/step - loss: 0.1773 - acc: 0.9529 - val_loss: 0.1519 - val_acc: 0.9586\n",
      "Epoch 55/100\n",
      "33600/33600 [==============================] - 39s 1ms/step - loss: 0.1759 - acc: 0.9524 - val_loss: 0.1508 - val_acc: 0.9590\n",
      "Epoch 56/100\n",
      "33600/33600 [==============================] - 40s 1ms/step - loss: 0.1735 - acc: 0.9532 - val_loss: 0.1497 - val_acc: 0.9602\n",
      "Epoch 57/100\n",
      "33600/33600 [==============================] - 40s 1ms/step - loss: 0.1716 - acc: 0.9557 - val_loss: 0.1486 - val_acc: 0.9595\n",
      "Epoch 58/100\n",
      "33600/33600 [==============================] - 42s 1ms/step - loss: 0.1674 - acc: 0.9547 - val_loss: 0.1460 - val_acc: 0.9605\n",
      "Epoch 59/100\n",
      "33600/33600 [==============================] - 42s 1ms/step - loss: 0.1651 - acc: 0.9568 - val_loss: 0.1459 - val_acc: 0.9614\n",
      "Epoch 60/100\n",
      "33600/33600 [==============================] - 42s 1ms/step - loss: 0.1601 - acc: 0.9576 - val_loss: 0.1447 - val_acc: 0.9618\n",
      "Epoch 61/100\n",
      "33600/33600 [==============================] - 41s 1ms/step - loss: 0.1600 - acc: 0.9566 - val_loss: 0.1444 - val_acc: 0.9626\n",
      "Epoch 62/100\n",
      "33600/33600 [==============================] - 42s 1ms/step - loss: 0.1636 - acc: 0.9565 - val_loss: 0.1443 - val_acc: 0.9620\n",
      "Epoch 63/100\n",
      "33600/33600 [==============================] - 40s 1ms/step - loss: 0.1560 - acc: 0.9585 - val_loss: 0.1437 - val_acc: 0.9624\n",
      "Epoch 64/100\n",
      "33600/33600 [==============================] - 38s 1ms/step - loss: 0.1552 - acc: 0.9590 - val_loss: 0.1426 - val_acc: 0.9629\n",
      "Epoch 65/100\n",
      "33600/33600 [==============================] - 41s 1ms/step - loss: 0.1535 - acc: 0.9594 - val_loss: 0.1411 - val_acc: 0.9625\n",
      "Epoch 66/100\n",
      "33600/33600 [==============================] - 41s 1ms/step - loss: 0.1504 - acc: 0.9596 - val_loss: 0.1404 - val_acc: 0.9633\n",
      "Epoch 67/100\n",
      "33600/33600 [==============================] - 42s 1ms/step - loss: 0.1449 - acc: 0.9615 - val_loss: 0.1406 - val_acc: 0.9635\n",
      "Epoch 68/100\n",
      "33600/33600 [==============================] - 40s 1ms/step - loss: 0.1511 - acc: 0.9604 - val_loss: 0.1392 - val_acc: 0.9639\n",
      "Epoch 69/100\n",
      "33600/33600 [==============================] - 41s 1ms/step - loss: 0.1459 - acc: 0.9610 - val_loss: 0.1398 - val_acc: 0.9635\n",
      "Epoch 70/100\n",
      "33600/33600 [==============================] - 41s 1ms/step - loss: 0.1435 - acc: 0.9616 - val_loss: 0.1382 - val_acc: 0.9649\n",
      "Epoch 71/100\n",
      "33600/33600 [==============================] - 42s 1ms/step - loss: 0.1402 - acc: 0.9623 - val_loss: 0.1377 - val_acc: 0.9649\n",
      "Epoch 72/100\n",
      "33600/33600 [==============================] - 40s 1ms/step - loss: 0.1404 - acc: 0.9625 - val_loss: 0.1375 - val_acc: 0.9649\n",
      "Epoch 73/100\n",
      "33600/33600 [==============================] - 41s 1ms/step - loss: 0.1398 - acc: 0.9628 - val_loss: 0.1360 - val_acc: 0.9658\n",
      "Epoch 74/100\n",
      "33600/33600 [==============================] - 40s 1ms/step - loss: 0.1366 - acc: 0.9641 - val_loss: 0.1355 - val_acc: 0.9656\n",
      "Epoch 75/100\n",
      "33600/33600 [==============================] - 41s 1ms/step - loss: 0.1369 - acc: 0.9644 - val_loss: 0.1366 - val_acc: 0.9657\n",
      "Epoch 76/100\n",
      "33600/33600 [==============================] - 40s 1ms/step - loss: 0.1366 - acc: 0.9636 - val_loss: 0.1341 - val_acc: 0.9656\n",
      "Epoch 77/100\n",
      "33600/33600 [==============================] - 40s 1ms/step - loss: 0.1310 - acc: 0.9653 - val_loss: 0.1339 - val_acc: 0.9663\n",
      "Epoch 78/100\n",
      "33600/33600 [==============================] - 40s 1ms/step - loss: 0.1318 - acc: 0.9655 - val_loss: 0.1349 - val_acc: 0.9669\n",
      "Epoch 79/100\n",
      "33600/33600 [==============================] - 39s 1ms/step - loss: 0.1301 - acc: 0.9656 - val_loss: 0.1325 - val_acc: 0.9670\n",
      "Epoch 80/100\n",
      "33600/33600 [==============================] - 41s 1ms/step - loss: 0.1290 - acc: 0.9662 - val_loss: 0.1335 - val_acc: 0.9671\n",
      "Epoch 81/100\n",
      "33600/33600 [==============================] - 41s 1ms/step - loss: 0.1270 - acc: 0.9669 - val_loss: 0.1318 - val_acc: 0.9682\n",
      "Epoch 82/100\n",
      "33600/33600 [==============================] - 41s 1ms/step - loss: 0.1223 - acc: 0.9688 - val_loss: 0.1334 - val_acc: 0.9674\n",
      "Epoch 83/100\n",
      "33600/33600 [==============================] - 43s 1ms/step - loss: 0.1212 - acc: 0.9682 - val_loss: 0.1321 - val_acc: 0.9685\n",
      "Epoch 84/100\n",
      "33600/33600 [==============================] - 42s 1ms/step - loss: 0.1181 - acc: 0.9682 - val_loss: 0.1320 - val_acc: 0.9687\n",
      "Epoch 85/100\n",
      "33600/33600 [==============================] - 42s 1ms/step - loss: 0.1213 - acc: 0.9685 - val_loss: 0.1330 - val_acc: 0.9674\n",
      "Epoch 86/100\n",
      "33600/33600 [==============================] - 41s 1ms/step - loss: 0.1219 - acc: 0.9693 - val_loss: 0.1314 - val_acc: 0.9679\n",
      "Epoch 87/100\n",
      "33600/33600 [==============================] - 39s 1ms/step - loss: 0.1199 - acc: 0.9688 - val_loss: 0.1317 - val_acc: 0.9685\n",
      "Epoch 88/100\n",
      "33600/33600 [==============================] - 41s 1ms/step - loss: 0.1140 - acc: 0.9701 - val_loss: 0.1315 - val_acc: 0.9683\n",
      "Epoch 89/100\n",
      "33600/33600 [==============================] - 40s 1ms/step - loss: 0.1133 - acc: 0.9705 - val_loss: 0.1324 - val_acc: 0.9687\n",
      "Epoch 90/100\n",
      "33600/33600 [==============================] - 37s 1ms/step - loss: 0.1121 - acc: 0.9709 - val_loss: 0.1307 - val_acc: 0.9685\n",
      "Epoch 91/100\n",
      "33600/33600 [==============================] - 38s 1ms/step - loss: 0.1182 - acc: 0.9704 - val_loss: 0.1288 - val_acc: 0.9696\n",
      "Epoch 92/100\n",
      "33600/33600 [==============================] - 38s 1ms/step - loss: 0.1108 - acc: 0.9703 - val_loss: 0.1298 - val_acc: 0.9693\n",
      "Epoch 93/100\n",
      "33600/33600 [==============================] - 37s 1ms/step - loss: 0.1111 - acc: 0.9698 - val_loss: 0.1286 - val_acc: 0.9685\n",
      "Epoch 94/100\n",
      "33600/33600 [==============================] - 38s 1ms/step - loss: 0.1097 - acc: 0.9718 - val_loss: 0.1282 - val_acc: 0.9685\n",
      "Epoch 95/100\n",
      "33600/33600 [==============================] - 38s 1ms/step - loss: 0.1083 - acc: 0.9712 - val_loss: 0.1310 - val_acc: 0.9695\n",
      "Epoch 96/100\n",
      "33600/33600 [==============================] - 35s 1ms/step - loss: 0.1105 - acc: 0.9718 - val_loss: 0.1300 - val_acc: 0.9688\n",
      "Epoch 97/100\n",
      "33600/33600 [==============================] - 40s 1ms/step - loss: 0.1101 - acc: 0.9720 - val_loss: 0.1284 - val_acc: 0.9701\n",
      "Epoch 98/100\n",
      "33600/33600 [==============================] - 35s 1ms/step - loss: 0.1084 - acc: 0.9721 - val_loss: 0.1278 - val_acc: 0.9695\n",
      "Epoch 99/100\n",
      "33600/33600 [==============================] - 33s 988us/step - loss: 0.1082 - acc: 0.9724 - val_loss: 0.1279 - val_acc: 0.9696\n",
      "Epoch 100/100\n",
      "33600/33600 [==============================] - 33s 983us/step - loss: 0.1090 - acc: 0.9720 - val_loss: 0.1273 - val_acc: 0.9695\n"
     ]
    }
   ],
   "source": [
    "\n",
    "history =network.fit(X_train_std ,Y_train_std ,epochs =100 ,batch_size =64 ,validation_data =(X_cv_std ,Y_cv_std) )"
   ]
  },
  {
   "cell_type": "code",
   "execution_count": 70,
   "metadata": {},
   "outputs": [
    {
     "data": {
      "image/png": "[encoded data removed]",
      "text/plain": [
       "<Figure size 432x288 with 1 Axes>"
      ]
     },
     "metadata": {},
     "output_type": "display_data"
    }
   ],
   "source": [
    "import matplotlib.pyplot as plt\n",
    "acc = history.history['acc']\n",
    "val_acc = history.history['val_acc']\n",
    "loss = history.history['loss']\n",
    "val_loss = history.history['val_loss']\n",
    "epochs =range(1 ,len((acc)) +1)\n",
    "plt.plot(epochs ,acc ,'bo' ,label ='training_accuracy')\n",
    "plt.plot(epochs ,val_acc ,'b-' ,label = 'validation_accuracy')\n",
    "plt.xlabel('epochs')\n",
    "plt.ylabel('accuracy')\n",
    "plt.legend()\n",
    "plt.show()"
   ]
  },
  {
   "cell_type": "code",
   "execution_count": 71,
   "metadata": {},
   "outputs": [],
   "source": [
    "y_pred = network.predict(X_test)"
   ]
  },
  {
   "cell_type": "code",
   "execution_count": 72,
   "metadata": {},
   "outputs": [
    {
     "name": "stdout",
     "output_type": "stream",
     "text": [
      "(28000,)\n"
     ]
    }
   ],
   "source": [
    "Y_pred = np.argmax(y_pred ,axis =1)\n",
    "print(Y_pred.shape)"
   ]
  },
  {
   "cell_type": "code",
   "execution_count": 73,
   "metadata": {},
   "outputs": [],
   "source": [
    "data1 = pd.read_csv('sample_submission.csv')\n",
    "Y1 = data1.iloc[: ,0].values\n",
    "Y = {'ImageId':Y1 ,'Label':Y_pred}\n",
    "df = pd.DataFrame(data =Y ,dtype =int)\n",
    "df.to_csv('Data_recog_submission_5.csv' ,sep =',')"
   ]
  },
  {
   "cell_type": "code",
   "execution_count": null,
   "metadata": {},
   "outputs": [],
   "source": []
  }
 ],
 "metadata": {
  "kernelspec": {
   "display_name": "Python 3",
   "language": "python",
   "name": "python3"
  },
  "language_info": {
   "codemirror_mode": {
    "name": "ipython",
    "version": 3
   },
   "file_extension": ".py",
   "mimetype": "text/x-python",
   "name": "python",
   "nbconvert_exporter": "python",
   "pygments_lexer": "ipython3",
   "version": "3.6.5"
  }
 },
 "nbformat": 4,
 "nbformat_minor": 2
}
